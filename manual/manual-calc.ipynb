{
 "cells": [
  {
   "cell_type": "code",
   "execution_count": 116,
   "metadata": {},
   "outputs": [],
   "source": [
    "import pandas as pd\n",
    "import numpy as np"
   ]
  },
  {
   "cell_type": "code",
   "execution_count": 117,
   "metadata": {},
   "outputs": [],
   "source": [
    "dry_df = pd.read_csv('../manual/dry-data.csv')\n",
    "wet_df = pd.read_csv('../manual/wet-data.csv')"
   ]
  },
  {
   "cell_type": "code",
   "execution_count": 118,
   "metadata": {},
   "outputs": [
    {
     "data": {
      "text/html": [
       "<div>\n",
       "<style scoped>\n",
       "    .dataframe tbody tr th:only-of-type {\n",
       "        vertical-align: middle;\n",
       "    }\n",
       "\n",
       "    .dataframe tbody tr th {\n",
       "        vertical-align: top;\n",
       "    }\n",
       "\n",
       "    .dataframe thead th {\n",
       "        text-align: right;\n",
       "    }\n",
       "</style>\n",
       "<table border=\"1\" class=\"dataframe\">\n",
       "  <thead>\n",
       "    <tr style=\"text-align: right;\">\n",
       "      <th></th>\n",
       "      <th>Brand</th>\n",
       "      <th>Flavor</th>\n",
       "      <th>Cans/Case</th>\n",
       "      <th>g/can</th>\n",
       "      <th>kcal/kg</th>\n",
       "      <th>$/can</th>\n",
       "    </tr>\n",
       "  </thead>\n",
       "  <tbody>\n",
       "    <tr>\n",
       "      <th>0</th>\n",
       "      <td>Nulo (pate)</td>\n",
       "      <td>Chicken and Turkey</td>\n",
       "      <td>1</td>\n",
       "      <td>156</td>\n",
       "      <td>1239</td>\n",
       "      <td>2.99</td>\n",
       "    </tr>\n",
       "    <tr>\n",
       "      <th>1</th>\n",
       "      <td>Nulo (minced)</td>\n",
       "      <td>Turkey and Duck</td>\n",
       "      <td>1</td>\n",
       "      <td>85</td>\n",
       "      <td>900</td>\n",
       "      <td>2.49</td>\n",
       "    </tr>\n",
       "    <tr>\n",
       "      <th>2</th>\n",
       "      <td>Royal Canin</td>\n",
       "      <td>Spayed and Neutered Adult</td>\n",
       "      <td>1</td>\n",
       "      <td>85</td>\n",
       "      <td>692</td>\n",
       "      <td>3.49</td>\n",
       "    </tr>\n",
       "  </tbody>\n",
       "</table>\n",
       "</div>"
      ],
      "text/plain": [
       "           Brand                     Flavor  Cans/Case  g/can  kcal/kg  $/can\n",
       "0    Nulo (pate)         Chicken and Turkey          1    156     1239   2.99\n",
       "1  Nulo (minced)            Turkey and Duck          1     85      900   2.49\n",
       "2    Royal Canin  Spayed and Neutered Adult          1     85      692   3.49"
      ]
     },
     "metadata": {},
     "output_type": "display_data"
    },
    {
     "data": {
      "text/html": [
       "<div>\n",
       "<style scoped>\n",
       "    .dataframe tbody tr th:only-of-type {\n",
       "        vertical-align: middle;\n",
       "    }\n",
       "\n",
       "    .dataframe tbody tr th {\n",
       "        vertical-align: top;\n",
       "    }\n",
       "\n",
       "    .dataframe thead th {\n",
       "        text-align: right;\n",
       "    }\n",
       "</style>\n",
       "<table border=\"1\" class=\"dataframe\">\n",
       "  <thead>\n",
       "    <tr style=\"text-align: right;\">\n",
       "      <th></th>\n",
       "      <th>Brand</th>\n",
       "      <th>Flavor</th>\n",
       "      <th>Bag  Weight (kg)</th>\n",
       "      <th>kcal/kg</th>\n",
       "      <th>$/bag</th>\n",
       "    </tr>\n",
       "  </thead>\n",
       "  <tbody>\n",
       "    <tr>\n",
       "      <th>0</th>\n",
       "      <td>Royal Canin</td>\n",
       "      <td>Apetite Control</td>\n",
       "      <td>1.36</td>\n",
       "      <td>3302</td>\n",
       "      <td>38.99</td>\n",
       "    </tr>\n",
       "    <tr>\n",
       "      <th>1</th>\n",
       "      <td>Nulo</td>\n",
       "      <td>Baked and Coated Chickin, Turkey &amp; White Fish</td>\n",
       "      <td>1.81</td>\n",
       "      <td>4573</td>\n",
       "      <td>32.99</td>\n",
       "    </tr>\n",
       "    <tr>\n",
       "      <th>2</th>\n",
       "      <td>Go! Solutions</td>\n",
       "      <td>Sensitives</td>\n",
       "      <td>1.36</td>\n",
       "      <td>4180</td>\n",
       "      <td>27.99</td>\n",
       "    </tr>\n",
       "  </tbody>\n",
       "</table>\n",
       "</div>"
      ],
      "text/plain": [
       "           Brand                                         Flavor  \\\n",
       "0    Royal Canin                                Apetite Control   \n",
       "1           Nulo  Baked and Coated Chickin, Turkey & White Fish   \n",
       "2  Go! Solutions                                     Sensitives   \n",
       "\n",
       "   Bag  Weight (kg)  kcal/kg  $/bag  \n",
       "0              1.36     3302  38.99  \n",
       "1              1.81     4573  32.99  \n",
       "2              1.36     4180  27.99  "
      ]
     },
     "metadata": {},
     "output_type": "display_data"
    }
   ],
   "source": [
    "display(wet_df)\n",
    "display(dry_df)"
   ]
  },
  {
   "cell_type": "code",
   "execution_count": 119,
   "metadata": {},
   "outputs": [],
   "source": [
    "dry_df['kcal/bag']=dry_df['Bag  Weight (kg)']*dry_df['kcal/kg']\n",
    "dry_df['$/kcal']=dry_df['$/bag']/dry_df['kcal/bag']\n",
    "\n",
    "wet_df['kcal/can']=wet_df['g/can']/1000*wet_df['kcal/kg']\n",
    "wet_df['$/kcal']=wet_df['$/can']/wet_df['kcal/can']"
   ]
  },
  {
   "cell_type": "code",
   "execution_count": 135,
   "metadata": {},
   "outputs": [
    {
     "data": {
      "text/plain": [
       "np.float64(78.0)"
      ]
     },
     "execution_count": 135,
     "metadata": {},
     "output_type": "execute_result"
    }
   ],
   "source": [
    "cans_wet = 0.5\n",
    "select_dry = 'Go! Solutions'\n",
    "select_wet = 'Nulo (minced)'\n",
    "cans_wet*wet_df.loc[wet_df[wet_df['Brand']==select_wet].index, 'g/can'].values[0]"
   ]
  },
  {
   "cell_type": "code",
   "execution_count": 139,
   "metadata": {},
   "outputs": [
    {
     "name": "stderr",
     "output_type": "stream",
     "text": [
      "/var/folders/dz/13jyqy9s2pj6nzzr5q4x48nw0000gn/T/ipykernel_15664/3278217605.py:9: FutureWarning: Calling float on a single element Series is deprecated and will raise a TypeError in the future. Use float(ser.iloc[0]) instead\n",
      "  feeding_df['dry quantity'] = feeding_df['dry kcal']/float(dry_df.loc[dry_df[dry_df['Brand']==select_dry].index, 'kcal/kg']/1000)\n"
     ]
    },
    {
     "data": {
      "text/html": [
       "<div>\n",
       "<style scoped>\n",
       "    .dataframe tbody tr th:only-of-type {\n",
       "        vertical-align: middle;\n",
       "    }\n",
       "\n",
       "    .dataframe tbody tr th {\n",
       "        vertical-align: top;\n",
       "    }\n",
       "\n",
       "    .dataframe thead th {\n",
       "        text-align: right;\n",
       "    }\n",
       "</style>\n",
       "<table border=\"1\" class=\"dataframe\">\n",
       "  <thead>\n",
       "    <tr style=\"text-align: right;\">\n",
       "      <th></th>\n",
       "      <th>kcal</th>\n",
       "      <th>wet quantity (cans)</th>\n",
       "      <th>wet kcal</th>\n",
       "      <th>dry kcal</th>\n",
       "      <th>dry quantity</th>\n",
       "    </tr>\n",
       "  </thead>\n",
       "  <tbody>\n",
       "    <tr>\n",
       "      <th>low</th>\n",
       "      <td>246.0</td>\n",
       "      <td>0.5</td>\n",
       "      <td>156.0</td>\n",
       "      <td>90.0</td>\n",
       "      <td>21.531100</td>\n",
       "    </tr>\n",
       "    <tr>\n",
       "      <th>high</th>\n",
       "      <td>307.5</td>\n",
       "      <td>0.5</td>\n",
       "      <td>156.0</td>\n",
       "      <td>151.5</td>\n",
       "      <td>36.244019</td>\n",
       "    </tr>\n",
       "  </tbody>\n",
       "</table>\n",
       "</div>"
      ],
      "text/plain": [
       "       kcal  wet quantity (cans)  wet kcal  dry kcal  dry quantity\n",
       "low   246.0                  0.5     156.0      90.0     21.531100\n",
       "high  307.5                  0.5     156.0     151.5     36.244019"
      ]
     },
     "execution_count": 139,
     "metadata": {},
     "output_type": "execute_result"
    }
   ],
   "source": [
    "cat_weight = 12.3\n",
    "\n",
    "feeding_df = pd.DataFrame()\n",
    "feeding_df.loc['low','kcal'] = cat_weight*20\n",
    "feeding_df.loc['high','kcal'] = cat_weight*25\n",
    "feeding_df['wet quantity (cans)'] = cans_wet\n",
    "feeding_df.loc[:,'wet kcal'] = cans_wet*wet_df.loc[wet_df[wet_df['Brand']==select_wet].index, 'g/can'].values[0] + 78.0\n",
    "feeding_df['dry kcal'] = feeding_df['kcal']-feeding_df['wet kcal']\n",
    "feeding_df['dry quantity'] = feeding_df['dry kcal']/float(dry_df.loc[dry_df[dry_df['Brand']==select_dry].index, 'kcal/kg']/1000)\n",
    "feeding_df"
   ]
  }
 ],
 "metadata": {
  "kernelspec": {
   "display_name": ".venv",
   "language": "python",
   "name": "python3"
  },
  "language_info": {
   "codemirror_mode": {
    "name": "ipython",
    "version": 3
   },
   "file_extension": ".py",
   "mimetype": "text/x-python",
   "name": "python",
   "nbconvert_exporter": "python",
   "pygments_lexer": "ipython3",
   "version": "3.12.2"
  }
 },
 "nbformat": 4,
 "nbformat_minor": 2
}
